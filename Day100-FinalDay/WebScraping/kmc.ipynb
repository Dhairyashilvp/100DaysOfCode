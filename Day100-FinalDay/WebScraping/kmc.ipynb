{
 "metadata": {
  "language_info": {
   "codemirror_mode": {
    "name": "ipython",
    "version": 3
   },
   "file_extension": ".py",
   "mimetype": "text/x-python",
   "name": "python",
   "nbconvert_exporter": "python",
   "pygments_lexer": "ipython3",
   "version": "3.7.4-final"
  },
  "orig_nbformat": 2,
  "kernelspec": {
   "name": "python37464bit3418083905e742398ab8fae178929940",
   "display_name": "Python 3.7.4 64-bit",
   "language": "python"
  }
 },
 "nbformat": 4,
 "nbformat_minor": 2,
 "cells": [
  {
   "cell_type": "code",
   "execution_count": 51,
   "metadata": {},
   "outputs": [],
   "source": [
    "from selenium import webdriver\n",
    "from selenium.webdriver.common.keys import Keys\n",
    "from time import sleep, strftime\n",
    "from random import randint, choice\n",
    "import pandas as pd\n",
    "import bs4 as bs"
   ]
  },
  {
   "cell_type": "code",
   "execution_count": 52,
   "metadata": {},
   "outputs": [
    {
     "output_type": "stream",
     "name": "stdout",
     "text": [
      "name 'source' is not defined  Thank You. \n"
     ]
    }
   ],
   "source": [
    "chromedriver_path = 'F:/Projrct/hobby/python_repo/KMC/chromedriver.exe' # Change this to your own chromedriver path!\n",
    "webdriver = webdriver.Chrome(executable_path=chromedriver_path)\n",
    "sleep(2)\n",
    "webdriver.get('********************URL************************')\n",
    "sleep(10)\n",
    "page = 2\n",
    "\n",
    "try:\n",
    "    c = 11\n",
    "    while (1):\n",
    "        # print(\"You are on page number: \",page)\n",
    "        webdriver.find_element_by_xpath('//*[@id=\"ctl00_ContentPlaceHolder1_gvst\"]/tbody/tr[32]/td/table/tbody/tr//descendant::td['+ str(page) +']/a').click()\n",
    "        sleep(12)\n",
    "        \n",
    "        #Scooping\n",
    "        page_source = webdriver.page_source\n",
    "        soup = bs.BeautifulSoup(page_source,'html.parser')\n",
    "        table = soup.find('table', attrs={'id' : 'ctl00_ContentPlaceHolder1_gvst'})\n",
    "        res = []\n",
    "        table_rows = table.find_all('tr')\n",
    "        for tr in table_rows:\n",
    "            td = tr.find_all('td')\n",
    "            row = [tr.text for tr in td if tr.text]\n",
    "            if row:\n",
    "                print(row)\n",
    "                res.append(row)\n",
    "\n",
    "        # page = 3 if (page + 1) > c else page + 1\n",
    "        # c = 12\n",
    "        break\n",
    "except Exception as e:\n",
    "    print(e,\" Thank You. \")"
   ]
  }
 ]
}